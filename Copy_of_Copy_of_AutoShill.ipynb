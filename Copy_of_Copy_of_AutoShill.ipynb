{
  "nbformat": 4,
  "nbformat_minor": 0,
  "metadata": {
    "colab": {
      "name": "Copy of Copy of AutoShill.ipynb",
      "provenance": [],
      "collapsed_sections": [],
      "include_colab_link": true
    },
    "kernelspec": {
      "name": "python3",
      "display_name": "Python 3"
    },
    "language_info": {
      "name": "python"
    }
  },
  "cells": [
    {
      "cell_type": "markdown",
      "metadata": {
        "id": "view-in-github",
        "colab_type": "text"
      },
      "source": [
        "<a href=\"https://colab.research.google.com/github/xpecialteam/HEHE/blob/main/Copy_of_Copy_of_AutoShill.ipynb\" target=\"_parent\"><img src=\"https://colab.research.google.com/assets/colab-badge.svg\" alt=\"Open In Colab\"/></a>"
      ]
    },
    {
      "cell_type": "markdown",
      "metadata": {
        "id": "EjHJyi5PnSjU"
      },
      "source": [
        "# AutoShill\n",
        "check this guide  \n",
        "https://upfinity.gitbook.io/upfinity/ecosystem/utility/autoshill/how-to-use-autoshill \n",
        "\n",
        "If you have questions, DM @ALLCOINLAB"
      ]
    },
    {
      "cell_type": "code",
      "metadata": {
        "id": "b6u1D4uuiBW5"
      },
      "source": [
        "# ONLY CLICK PLAY BUTTON IN THIS AREA IF SHILLING IS NOT WORKING PROPERLY!\n",
        "import os\n",
        "os.kill(os.getpid(), 9)"
      ],
      "execution_count": null,
      "outputs": []
    },
    {
      "cell_type": "code",
      "metadata": {
        "id": "IRx7tdAk7os1",
        "colab": {
          "base_uri": "https://localhost:8080/"
        },
        "outputId": "36730865-69aa-4c3a-edca-5876df5a1faf"
      },
      "source": [
        "# 1. Click play button here\n",
        "%cd /content\n",
        "!rm -rf /content/AutoShill\n",
        "!git clone https://github.com/AllCoinLab/AutoShill.git"
      ],
      "execution_count": 1,
      "outputs": [
        {
          "output_type": "stream",
          "name": "stdout",
          "text": [
            "/content\n",
            "Cloning into 'AutoShill'...\n",
            "remote: Enumerating objects: 256, done.\u001b[K\n",
            "remote: Counting objects: 100% (18/18), done.\u001b[K\n",
            "remote: Compressing objects: 100% (13/13), done.\u001b[K\n",
            "remote: Total 256 (delta 9), reused 12 (delta 5), pack-reused 238\u001b[K\n",
            "Receiving objects: 100% (256/256), 184.15 MiB | 32.65 MiB/s, done.\n",
            "Resolving deltas: 100% (142/142), done.\n"
          ]
        }
      ]
    },
    {
      "cell_type": "code",
      "source": [
        "%%writefile /content/AutoShill/cfg/app.txt\n",
        "# 2. Click play button here\n",
        "# phone number: needed for verification of your telegram account.\n",
        "# official telegram will send you the confirmation code. nothing else.\n",
        "\n",
        "[API]\n",
        "# Your phone number with country code (if +1 200 300 4000)\n",
        "NUMBER = +639068135398\n",
        "API_ID = 8737164\n",
        "API_HASH = \"65b1254c300fc80663102d46780b805c\"\n",
        "\n",
        "# DON'T TOUCH HERE!\n",
        "ADDRESS = \"0x333FD139cAeF6Aa31056cC905987b77B1044d259\""
      ],
      "metadata": {
        "id": "188cU19OrXK0",
        "colab": {
          "base_uri": "https://localhost:8080/"
        },
        "outputId": "440e90fc-0716-4dbb-8d43-038a875aeca6"
      },
      "execution_count": 2,
      "outputs": [
        {
          "output_type": "stream",
          "name": "stdout",
          "text": [
            "Overwriting /content/AutoShill/cfg/app.txt\n"
          ]
        }
      ]
    },
    {
      "cell_type": "code",
      "metadata": {
        "id": "QEUPzhS84XFf",
        "colab": {
          "base_uri": "https://localhost:8080/"
        },
        "outputId": "8d50a1f1-f2a5-4322-b84c-07d7f21e1953"
      },
      "source": [
        "%%writefile /content/AutoShill/cfg/ctrl.txt\n",
        "# 3. Click play button here\n",
        "\n",
        "[CTRL]\n",
        "# Change 0 to 1 if you want to send with image\n",
        "# you can add image or video\n",
        "MEDIA = 1\n",
        "# Write down name of the media\n",
        "MEDIA_PATH = photo_2022-02-13_11-19-47.jpg\n",
        "\n",
        "\n",
        "# Sleep duration between all group messages (in seconds)\n",
        "# If you think you are getting short mute / ban, increase this value\n",
        "GLOBAL_SLEEP = 0\n",
        "# Sleep duration between each group messages (in seconds)\n",
        "# If you think you are getting short mute / ban, increase this value\n",
        "LOCAL_SLEEP = 1\n",
        "\n",
        "\n",
        "# DON'T TOUCH HERE!\n",
        "RESET = 0\n",
        "SLOW_LOG = 0\n",
        "FORCE_CONNECT = 0"
      ],
      "execution_count": 9,
      "outputs": [
        {
          "output_type": "stream",
          "name": "stdout",
          "text": [
            "Overwriting /content/AutoShill/cfg/ctrl.txt\n"
          ]
        }
      ]
    },
    {
      "cell_type": "code",
      "source": [
        "# 4. Click play button in BELOW SECTION\n",
        "# list of groups to shill\n",
        "# if you want to shill in specific group, add it below (check mute / ban condition!)"
      ],
      "metadata": {
        "id": "B7jYR5eGYiJy"
      },
      "execution_count": 4,
      "outputs": []
    },
    {
      "cell_type": "code",
      "source": [
        "%%writefile /content/AutoShill/cfg/groups.txt\n",
        "@airdrop_groups @RONINGAMEZ_PHILIPPINES @cryptodakurobinhooders @the_4_cryptoeagles @BSC_PhiliPPines @BlockWarriorPhilippines @RoninTechIssues @Ecrypto_Ventures @pinkecosystem @EverUp_PH @crypto_Academy_DYOR @apebusd @ArchAngelToken @chupanaShillers @airdroplink3 @airdropstati0n @apeslounge @asg_se_cryptodb @binancechainlovers @bsc_brazil @bsc_china @bsc_dubai @bsc_germany @bsc_india @bsc_indonesia @bsc_italy @bsc_japan @bsc_nigeria @bsc_pakistan @bsc_peru @bsc_philippines @bsc_spain @bsc_switzerland @bsc_turkey @bsc_usa @bsc_vietna @bscape @bscapeshill @bscgemarmyshill @bscgemclub @bscgemglobal @bscgemsd @bscgemseng @bscsimpers @chatbsc @clubuniswap1 @crypropricetalks @cryptogem_hunters @cryptolinksgroup @cryptolux_tl @cryptomindsgroup @cryptomoonshots @cryptooo10 @cryptopricetalks @cryptoshillfamily @currrency2020 @defi_shill @defianalyzer @defiandmore @defipresales @farmingroom @fllow2020 @fomodomochat @gemcalls @gemsfordegensgroup @goldgroupss @goodfellas_cryptopicks @grroup2020 @infocryptoproject @jumpsquad @justshilling @kcc_gems @kcc_lovers @kucoinchaingems @lauragem @memeszn @mooncloneshillanything @newcryptogroups @pentaglobal @polygonbestgems @realfantokenreal @roseenglishsignal @shillcenter @thepolyhood @uniswap_boomb @uniswap_talk @uniswapall @uniswapbombsgroup @uniswapgem123 @uniswapgemgroup @uniswapgemtargets @uniswapinvestorssss @uniswaplegit @uniswapobserver @uniswaprektplebs @uniswaptalk @uniswaptrollbox @uniswapunofficial @uniswapw @whaler_club @whalers_club @whalersclub101 @wolvesofbscstreet @shillusa @BSCBUNNYS @poocoinshill"
      ],
      "metadata": {
        "id": "SkYftig0t-p7",
        "colab": {
          "base_uri": "https://localhost:8080/"
        },
        "outputId": "df479439-124e-4a20-c34b-09be7aed4f40"
      },
      "execution_count": 11,
      "outputs": [
        {
          "output_type": "stream",
          "name": "stdout",
          "text": [
            "Overwriting /content/AutoShill/cfg/groups.txt\n"
          ]
        }
      ]
    },
    {
      "cell_type": "code",
      "source": [
        "# 5. Click play button in BELOW SECTION\n",
        "# Write down shill text below"
      ],
      "metadata": {
        "id": "LMA6MgIHvOa1"
      },
      "execution_count": 6,
      "outputs": []
    },
    {
      "cell_type": "code",
      "source": [
        "%%writefile /content/AutoShill/cfg/shill.txt\n",
        "**🔥 MetFX Development Team are some of the best in the business!! 🔥🔥🔥🔥🔥🔥🔥🔥🔥\n",
        "\n",
        "Headed by Fahad , the team are a group of professionals in their field. With a vast array of skills and experience they are set to take the metaverse by storm through MetFX. With experience in military applications, gaming and Cyber Security for the NSA to name a few , the team is made up of ;\n",
        "\n",
        "2 Game developers\n",
        "1 Game Producer\n",
        "2 3d artists\n",
        "1 2d Artists\n",
        "1 NFT Artist\n",
        "2 Database engineers\n",
        "1 Network Architect\n",
        "1 Torrent data architect\n",
        "2 Unity Engineers \n",
        "\n",
        "They are currently working on;\n",
        "\n",
        "Cyber security\n",
        "Server Architecture\n",
        "Land Allocation\n",
        "In-game land mapping\n",
        "Data Plotting and Mining\n",
        "NFT's\n",
        "\n",
        "https://t.me/METFXWORLD\n",
        "https://t.me/METFX_ANNOUNCEMENTS\n",
        "metfx.io**"
      ],
      "metadata": {
        "id": "gvYCAI-gu_4X",
        "colab": {
          "base_uri": "https://localhost:8080/"
        },
        "outputId": "5065a807-a3d1-4f1a-f2cd-4d24cddc7ade"
      },
      "execution_count": 7,
      "outputs": [
        {
          "output_type": "stream",
          "name": "stdout",
          "text": [
            "Overwriting /content/AutoShill/cfg/shill.txt\n"
          ]
        }
      ]
    },
    {
      "cell_type": "code",
      "metadata": {
        "id": "ah56ZrNb5HqW",
        "colab": {
          "base_uri": "https://localhost:8080/"
        },
        "outputId": "45ff4e36-b799-4809-95e5-caa30d4c418a"
      },
      "source": [
        "# 6. Click play button here\n",
        "# this may take some time\n",
        "%cd /content/AutoShill\n",
        "!chmod 777 ./tg\n",
        "!./tg"
      ],
      "execution_count": null,
      "outputs": [
        {
          "output_type": "stream",
          "name": "stdout",
          "text": [
            "/content/AutoShill\n",
            "BUILD TIME:  2022-03-05 13:55:00\n",
            "\n",
            "#############################\n",
            "AutoShill\n",
            "Always follow the instructions carefully.\n",
            "#############################\n",
            "\n",
            "connect\n",
            "Getting your groups\n",
            "https://t.me/pancakegemsz\n",
            "https://t.me/uniswaplegit\n",
            "https://t.me/bsc_turkey\n",
            "https://t.me/bsc_switzerland\n",
            "https://t.me/bsc_philippines\n",
            "https://t.me/defishillers\n",
            "https://t.me/bsc_pakistan\n",
            "https://t.me/shillstationbsc\n",
            "https://t.me/bsc_peru\n",
            "https://t.me/bsc_germany\n",
            "https://t.me/bsc_vietna\n",
            "https://t.me/bsc_brazil\n",
            "https://t.me/bsc_italy\n",
            "https://t.me/uniswapbombsgroup\n",
            "https://t.me/bsc_indonesia\n",
            "https://t.me/bsc_spain\n",
            "https://t.me/bsc_usa\n",
            "https://t.me/bsc_japan\n",
            "https://t.me/bsc_nigeria\n",
            "https://t.me/airdrop_groups\n",
            "https://t.me/bsc_india\n",
            "https://t.me/asg_se_cryptodb\n",
            "https://t.me/ecrypto_ventures\n",
            "https://t.me/apeslounge\n",
            "https://t.me/bsc_china\n",
            "https://t.me/lauragem\n",
            "https://t.me/bsc_dubai\n",
            "https://t.me/bscgemarmy\n",
            "https://t.me/airdropstati0n\n",
            "https://t.me/airdroplink3\n",
            "https://t.me/degenclinic\n",
            "https://t.me/bbccryptonewschannel\n",
            "https://t.me/chupanashillers\n",
            "https://t.me/crypto_academy_dyor\n",
            "https://t.me/ronintechissues\n",
            "https://t.me/blockwarriorphilippines\n",
            "https://t.me/crissystaytuned\n",
            "https://t.me/everup_ph\n",
            "https://t.me/roningamez_philippines\n",
            "https://t.me/panstaketoken\n",
            "https://t.me/bsc_pump2k22\n",
            "Gathering target groups\n",
            "JOINING [https://t.me/uniswaptalk]\n",
            "JOINING [https://t.me/cryptom00nshots]\n",
            "JOINING [https://t.me/cryptodakurobinhooders]\n",
            "ERROR: NO PERMISSION [https://t.me/cryptodakurobinhooders]\n",
            "JOINING [https://t.me/the_4_cryptoeagles]\n",
            "ERROR: NO PERMISSION [https://t.me/the_4_cryptoeagles]\n",
            "JOINING [https://t.me/pinkecosystem]\n",
            "ERROR: NO PERMISSION [https://t.me/pinkecosystem]\n",
            "JOINING [https://t.me/binancechainlovers]\n",
            "JOINING [https://t.me/bscape]\n",
            "JOINING [https://t.me/bscapeshill]\n",
            "JOINING [https://t.me/bscgemarmyshill]\n",
            "ERROR: JOIN LIMIT EXCEEDED. WAIT NEXT DAY [https://t.me/bscgemarmyshill]\n",
            "Target Groups: 42\n",
            "00:00:44\n",
            "WARN: NO PERMISSION TO WRITE. TO AVOID MUTE/BAN, WILL NOT SEND MSG UNTIL RESTART [https://t.me/cryptom00nshots]\n",
            "WARN: NO PERMISSION TO WRITE. TO AVOID MUTE/BAN, WILL NOT SEND MSG UNTIL RESTART [https://t.me/lauragem]\n",
            "NO PHOTO ALLOWED IN THIS CHAT, WE WILL SEND ONLY TEXT HERE :) [https://t.me/airdrop_groups]\n",
            "WARN: NO PERMISSION TO WRITE. TO AVOID MUTE/BAN, WILL NOT SEND MSG UNTIL RESTART [https://t.me/roningamez_philippines]\n",
            "NO PHOTO ALLOWED IN THIS CHAT, WE WILL SEND ONLY TEXT HERE :) [https://t.me/blockwarriorphilippines]\n",
            "WARN: NO PERMISSION TO WRITE. TO AVOID MUTE/BAN, WILL NOT SEND MSG UNTIL RESTART [https://t.me/ecrypto_ventures]\n",
            "WARN: NO PERMISSION TO WRITE. TO AVOID MUTE/BAN, WILL NOT SEND MSG UNTIL RESTART [https://t.me/airdroplink3]\n",
            "WARN: NO PERMISSION TO WRITE. TO AVOID MUTE/BAN, WILL NOT SEND MSG UNTIL RESTART [https://t.me/airdropstati0n]\n",
            "WARN: NO PERMISSION TO WRITE. TO AVOID MUTE/BAN, WILL NOT SEND MSG UNTIL RESTART [https://t.me/binancechainlovers]\n",
            "WARN: NO PERMISSION TO WRITE. TO AVOID MUTE/BAN, WILL NOT SEND MSG UNTIL RESTART [https://t.me/bscape]\n",
            "00:02:02\n",
            "WARN: NO PERMISSION TO WRITE. TO AVOID MUTE/BAN, WILL NOT SEND MSG UNTIL RESTART [https://t.me/uniswaptalk]\n",
            "00:03:12\n",
            "00:04:12\n",
            "00:05:11\n",
            "NO PHOTO ALLOWED IN THIS CHAT, WE WILL SEND ONLY TEXT HERE :) [https://t.me/uniswaplegit]\n",
            "00:06:11\n",
            "00:07:11\n",
            "00:08:12\n",
            "00:09:12\n",
            "00:10:12\n",
            "00:11:12\n",
            "00:12:11\n",
            "00:13:11\n",
            "00:14:12\n",
            "00:15:11\n",
            "00:16:10\n",
            "00:17:17\n",
            "00:18:24\n",
            "00:19:27\n",
            "00:20:29\n",
            "00:21:31\n",
            "00:22:32\n",
            "00:23:33\n",
            "00:24:33\n",
            "00:25:33\n",
            "00:26:33\n",
            "00:27:32\n",
            "00:28:32\n",
            "00:29:31\n",
            "00:30:30\n",
            "00:31:31\n",
            "00:32:37\n",
            "00:33:44\n",
            "00:34:46\n",
            "00:35:47\n",
            "00:36:48\n",
            "00:37:49\n",
            "00:38:50\n",
            "00:39:52\n",
            "00:40:52\n",
            "00:41:50\n",
            "00:42:50\n",
            "00:43:50\n",
            "00:44:49\n",
            "00:45:50\n",
            "00:46:49\n",
            "00:47:54\n",
            "00:48:58\n",
            "00:50:00\n",
            "00:51:01\n",
            "00:52:01\n",
            "00:53:03\n",
            "00:54:03\n",
            "00:55:03\n"
          ]
        }
      ]
    }
  ]
}